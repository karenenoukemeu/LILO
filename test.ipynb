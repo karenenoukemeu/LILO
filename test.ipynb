{
  "nbformat": 4,
  "nbformat_minor": 0,
  "metadata": {
    "colab": {
      "provenance": [],
      "authorship_tag": "ABX9TyPCv8bqrUMDGkXbQagw1P9M"
    },
    "kernelspec": {
      "name": "python3",
      "display_name": "Python 3"
    },
    "language_info": {
      "name": "python"
    }
  },
  "cells": [
    {
      "cell_type": "code",
      "execution_count": null,
      "metadata": {
        "id": "vH1Nj5K0n6oM"
      },
      "outputs": [],
      "source": [
        "print(\"hello\")"
      ]
    }
  ]
}